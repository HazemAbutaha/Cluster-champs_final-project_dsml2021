{
 "cells": [
  {
   "cell_type": "markdown",
   "metadata": {},
   "source": [
    "# Tech Company Funding \n"
   ]
  },
  {
   "cell_type": "markdown",
   "metadata": {},
   "source": [
    "* <b>Company</b>: The name of the Company\n",
    "* <b>Website</b>: The web site of the company\n",
    "* <b>Region</b>: The country of the company \n",
    "* <b>Vertical</b>: The Industry\n",
    "* <b>Funding Amount (USD)</b>: The amount of the Funding\n",
    "* <b>Funding Stage</b>: The stage of the Funding \n",
    "* <b>Funding Date</b>: The date of the Funding"
   ]
  },
  {
   "cell_type": "markdown",
   "metadata": {},
   "source": [
    "### Import Data and Libraries"
   ]
  },
  {
   "cell_type": "code",
   "execution_count": 276,
   "metadata": {},
   "outputs": [],
   "source": [
    "import pandas as pd\n"
   ]
  },
  {
   "cell_type": "code",
   "execution_count": 277,
   "metadata": {},
   "outputs": [
    {
     "data": {
      "text/html": [
       "<div>\n",
       "<style scoped>\n",
       "    .dataframe tbody tr th:only-of-type {\n",
       "        vertical-align: middle;\n",
       "    }\n",
       "\n",
       "    .dataframe tbody tr th {\n",
       "        vertical-align: top;\n",
       "    }\n",
       "\n",
       "    .dataframe thead th {\n",
       "        text-align: right;\n",
       "    }\n",
       "</style>\n",
       "<table border=\"1\" class=\"dataframe\">\n",
       "  <thead>\n",
       "    <tr style=\"text-align: right;\">\n",
       "      <th></th>\n",
       "      <th>index</th>\n",
       "      <th>Company</th>\n",
       "      <th>Website</th>\n",
       "      <th>Region</th>\n",
       "      <th>Vertical</th>\n",
       "      <th>Funding Amount (USD)</th>\n",
       "      <th>Funding Stage</th>\n",
       "      <th>Funding Date</th>\n",
       "    </tr>\n",
       "  </thead>\n",
       "  <tbody>\n",
       "    <tr>\n",
       "      <th>0</th>\n",
       "      <td>1</td>\n",
       "      <td>Internxt</td>\n",
       "      <td>https://internxt.com/</td>\n",
       "      <td>Spain</td>\n",
       "      <td>Blockchain</td>\n",
       "      <td>278940</td>\n",
       "      <td>Seed</td>\n",
       "      <td>20-Jan</td>\n",
       "    </tr>\n",
       "    <tr>\n",
       "      <th>1</th>\n",
       "      <td>2</td>\n",
       "      <td>Dockflow</td>\n",
       "      <td>https://dockflow.com</td>\n",
       "      <td>Belgium</td>\n",
       "      <td>Logistics</td>\n",
       "      <td>292244</td>\n",
       "      <td>Seed</td>\n",
       "      <td>20-Jan</td>\n",
       "    </tr>\n",
       "    <tr>\n",
       "      <th>2</th>\n",
       "      <td>3</td>\n",
       "      <td>api.video</td>\n",
       "      <td>https://api.video</td>\n",
       "      <td>France</td>\n",
       "      <td>Developer APIs</td>\n",
       "      <td>300000</td>\n",
       "      <td>Seed</td>\n",
       "      <td>20-Jan</td>\n",
       "    </tr>\n",
       "    <tr>\n",
       "      <th>3</th>\n",
       "      <td>4</td>\n",
       "      <td>Buck.ai</td>\n",
       "      <td>https://buck.ai/</td>\n",
       "      <td>United States</td>\n",
       "      <td>Artificial Intelligence</td>\n",
       "      <td>300000</td>\n",
       "      <td>Seed</td>\n",
       "      <td>20-Jan</td>\n",
       "    </tr>\n",
       "    <tr>\n",
       "      <th>4</th>\n",
       "      <td>5</td>\n",
       "      <td>Prodsight</td>\n",
       "      <td>https://www.prodsight.ai</td>\n",
       "      <td>United Kingdom</td>\n",
       "      <td>Artificial Intelligence</td>\n",
       "      <td>529013</td>\n",
       "      <td>Seed</td>\n",
       "      <td>20-Jan</td>\n",
       "    </tr>\n",
       "  </tbody>\n",
       "</table>\n",
       "</div>"
      ],
      "text/plain": [
       "   index    Company                   Website          Region  \\\n",
       "0      1   Internxt     https://internxt.com/           Spain   \n",
       "1      2   Dockflow      https://dockflow.com         Belgium   \n",
       "2      3  api.video         https://api.video          France   \n",
       "3      4    Buck.ai          https://buck.ai/   United States   \n",
       "4      5  Prodsight  https://www.prodsight.ai  United Kingdom   \n",
       "\n",
       "                  Vertical Funding Amount (USD) Funding Stage Funding Date  \n",
       "0               Blockchain               278940          Seed       20-Jan  \n",
       "1                Logistics               292244          Seed       20-Jan  \n",
       "2           Developer APIs               300000          Seed       20-Jan  \n",
       "3  Artificial Intelligence               300000          Seed       20-Jan  \n",
       "4  Artificial Intelligence               529013          Seed       20-Jan  "
      ]
     },
     "execution_count": 277,
     "metadata": {},
     "output_type": "execute_result"
    }
   ],
   "source": [
    "techFundingDf = pd.read_csv('./tech_fundings.csv')\n",
    "techFundingDf.head()"
   ]
  },
  {
   "cell_type": "code",
   "execution_count": 278,
   "metadata": {},
   "outputs": [
    {
     "name": "stdout",
     "output_type": "stream",
     "text": [
      "<class 'pandas.core.frame.DataFrame'>\n",
      "RangeIndex: 3575 entries, 0 to 3574\n",
      "Data columns (total 8 columns):\n",
      " #   Column                Non-Null Count  Dtype \n",
      "---  ------                --------------  ----- \n",
      " 0   index                 3575 non-null   int64 \n",
      " 1   Company               3575 non-null   object\n",
      " 2   Website               3575 non-null   object\n",
      " 3   Region                3563 non-null   object\n",
      " 4   Vertical              3575 non-null   object\n",
      " 5   Funding Amount (USD)  3575 non-null   object\n",
      " 6   Funding Stage         3575 non-null   object\n",
      " 7   Funding Date          3575 non-null   object\n",
      "dtypes: int64(1), object(7)\n",
      "memory usage: 223.6+ KB\n"
     ]
    }
   ],
   "source": [
    "techFundingDf.info()"
   ]
  },
  {
   "cell_type": "markdown",
   "metadata": {},
   "source": [
    "### Remove the missing 'Region' values"
   ]
  },
  {
   "cell_type": "code",
   "execution_count": 279,
   "metadata": {},
   "outputs": [
    {
     "data": {
      "text/html": [
       "<div>\n",
       "<style scoped>\n",
       "    .dataframe tbody tr th:only-of-type {\n",
       "        vertical-align: middle;\n",
       "    }\n",
       "\n",
       "    .dataframe tbody tr th {\n",
       "        vertical-align: top;\n",
       "    }\n",
       "\n",
       "    .dataframe thead th {\n",
       "        text-align: right;\n",
       "    }\n",
       "</style>\n",
       "<table border=\"1\" class=\"dataframe\">\n",
       "  <thead>\n",
       "    <tr style=\"text-align: right;\">\n",
       "      <th></th>\n",
       "      <th>index</th>\n",
       "      <th>Company</th>\n",
       "      <th>Website</th>\n",
       "      <th>Region</th>\n",
       "      <th>Vertical</th>\n",
       "      <th>Funding Amount (USD)</th>\n",
       "      <th>Funding Stage</th>\n",
       "      <th>Funding Date</th>\n",
       "    </tr>\n",
       "  </thead>\n",
       "  <tbody>\n",
       "    <tr>\n",
       "      <th>0</th>\n",
       "      <td>1</td>\n",
       "      <td>Internxt</td>\n",
       "      <td>https://internxt.com/</td>\n",
       "      <td>Spain</td>\n",
       "      <td>Blockchain</td>\n",
       "      <td>278940</td>\n",
       "      <td>Seed</td>\n",
       "      <td>20-Jan</td>\n",
       "    </tr>\n",
       "    <tr>\n",
       "      <th>1</th>\n",
       "      <td>2</td>\n",
       "      <td>Dockflow</td>\n",
       "      <td>https://dockflow.com</td>\n",
       "      <td>Belgium</td>\n",
       "      <td>Logistics</td>\n",
       "      <td>292244</td>\n",
       "      <td>Seed</td>\n",
       "      <td>20-Jan</td>\n",
       "    </tr>\n",
       "    <tr>\n",
       "      <th>2</th>\n",
       "      <td>3</td>\n",
       "      <td>api.video</td>\n",
       "      <td>https://api.video</td>\n",
       "      <td>France</td>\n",
       "      <td>Developer APIs</td>\n",
       "      <td>300000</td>\n",
       "      <td>Seed</td>\n",
       "      <td>20-Jan</td>\n",
       "    </tr>\n",
       "    <tr>\n",
       "      <th>3</th>\n",
       "      <td>4</td>\n",
       "      <td>Buck.ai</td>\n",
       "      <td>https://buck.ai/</td>\n",
       "      <td>United States</td>\n",
       "      <td>Artificial Intelligence</td>\n",
       "      <td>300000</td>\n",
       "      <td>Seed</td>\n",
       "      <td>20-Jan</td>\n",
       "    </tr>\n",
       "    <tr>\n",
       "      <th>4</th>\n",
       "      <td>5</td>\n",
       "      <td>Prodsight</td>\n",
       "      <td>https://www.prodsight.ai</td>\n",
       "      <td>United Kingdom</td>\n",
       "      <td>Artificial Intelligence</td>\n",
       "      <td>529013</td>\n",
       "      <td>Seed</td>\n",
       "      <td>20-Jan</td>\n",
       "    </tr>\n",
       "  </tbody>\n",
       "</table>\n",
       "</div>"
      ],
      "text/plain": [
       "   index    Company                   Website          Region  \\\n",
       "0      1   Internxt     https://internxt.com/           Spain   \n",
       "1      2   Dockflow      https://dockflow.com         Belgium   \n",
       "2      3  api.video         https://api.video          France   \n",
       "3      4    Buck.ai          https://buck.ai/   United States   \n",
       "4      5  Prodsight  https://www.prodsight.ai  United Kingdom   \n",
       "\n",
       "                  Vertical Funding Amount (USD) Funding Stage Funding Date  \n",
       "0               Blockchain               278940          Seed       20-Jan  \n",
       "1                Logistics               292244          Seed       20-Jan  \n",
       "2           Developer APIs               300000          Seed       20-Jan  \n",
       "3  Artificial Intelligence               300000          Seed       20-Jan  \n",
       "4  Artificial Intelligence               529013          Seed       20-Jan  "
      ]
     },
     "execution_count": 279,
     "metadata": {},
     "output_type": "execute_result"
    }
   ],
   "source": [
    "# Get a copy of DataFrame without missing 'Region' values\n",
    "condition = techFundingDf['Region'].notnull()\n",
    "techFundingDf = techFundingDf[ condition ]\n",
    "techFundingDf.head()"
   ]
  },
  {
   "cell_type": "code",
   "execution_count": 280,
   "metadata": {},
   "outputs": [
    {
     "name": "stdout",
     "output_type": "stream",
     "text": [
      "<class 'pandas.core.frame.DataFrame'>\n",
      "Int64Index: 3563 entries, 0 to 3574\n",
      "Data columns (total 8 columns):\n",
      " #   Column                Non-Null Count  Dtype \n",
      "---  ------                --------------  ----- \n",
      " 0   index                 3563 non-null   int64 \n",
      " 1   Company               3563 non-null   object\n",
      " 2   Website               3563 non-null   object\n",
      " 3   Region                3563 non-null   object\n",
      " 4   Vertical              3563 non-null   object\n",
      " 5   Funding Amount (USD)  3563 non-null   object\n",
      " 6   Funding Stage         3563 non-null   object\n",
      " 7   Funding Date          3563 non-null   object\n",
      "dtypes: int64(1), object(7)\n",
      "memory usage: 250.5+ KB\n"
     ]
    }
   ],
   "source": [
    "techFundingDf.info()"
   ]
  },
  {
   "cell_type": "markdown",
   "metadata": {},
   "source": [
    "### Prepare the 'Funding Amount (USD)'"
   ]
  },
  {
   "cell_type": "code",
   "execution_count": 281,
   "metadata": {},
   "outputs": [
    {
     "data": {
      "text/plain": [
       "9"
      ]
     },
     "execution_count": 281,
     "metadata": {},
     "output_type": "execute_result"
    }
   ],
   "source": [
    "# find the numbers of 'Unknown' in the Funding Amount\n",
    "len(techFundingDf[ techFundingDf['Funding Amount (USD)'] == 'Unknown' ]['Funding Amount (USD)'])"
   ]
  },
  {
   "cell_type": "code",
   "execution_count": 282,
   "metadata": {},
   "outputs": [
    {
     "name": "stdout",
     "output_type": "stream",
     "text": [
      "<class 'pandas.core.frame.DataFrame'>\n",
      "Int64Index: 3554 entries, 0 to 3574\n",
      "Data columns (total 8 columns):\n",
      " #   Column                Non-Null Count  Dtype \n",
      "---  ------                --------------  ----- \n",
      " 0   index                 3554 non-null   int64 \n",
      " 1   Company               3554 non-null   object\n",
      " 2   Website               3554 non-null   object\n",
      " 3   Region                3554 non-null   object\n",
      " 4   Vertical              3554 non-null   object\n",
      " 5   Funding Amount (USD)  3554 non-null   object\n",
      " 6   Funding Stage         3554 non-null   object\n",
      " 7   Funding Date          3554 non-null   object\n",
      "dtypes: int64(1), object(7)\n",
      "memory usage: 249.9+ KB\n"
     ]
    }
   ],
   "source": [
    "# Removing the 'Unknown' rows from the Funding amount\n",
    "techFundingDf = techFundingDf.drop([1262,1263,1264,1284,1285,1293,1301,1310,1327], axis=0)\n",
    "techFundingDf.info()"
   ]
  },
  {
   "cell_type": "code",
   "execution_count": 283,
   "metadata": {},
   "outputs": [
    {
     "data": {
      "text/plain": [
       "0"
      ]
     },
     "execution_count": 283,
     "metadata": {},
     "output_type": "execute_result"
    }
   ],
   "source": [
    "len(techFundingDf[ techFundingDf['Funding Amount (USD)'] == 'Unknown' ]['Funding Amount (USD)'])"
   ]
  },
  {
   "cell_type": "code",
   "execution_count": 284,
   "metadata": {},
   "outputs": [
    {
     "name": "stdout",
     "output_type": "stream",
     "text": [
      "index                     int64\n",
      "Company                  object\n",
      "Website                  object\n",
      "Region                   object\n",
      "Vertical                 object\n",
      "Funding Amount (USD)    float64\n",
      "Funding Stage            object\n",
      "Funding Date             object\n",
      "dtype: object\n"
     ]
    }
   ],
   "source": [
    "# Change the 'Funding Amount (USD)' data type from object to float64\n",
    "techFundingDf['Funding Amount (USD)'] = techFundingDf['Funding Amount (USD)'].astype(str).astype(float)\n",
    "print(techFundingDf.dtypes)"
   ]
  },
  {
   "cell_type": "code",
   "execution_count": 285,
   "metadata": {},
   "outputs": [
    {
     "data": {
      "text/html": [
       "<div>\n",
       "<style scoped>\n",
       "    .dataframe tbody tr th:only-of-type {\n",
       "        vertical-align: middle;\n",
       "    }\n",
       "\n",
       "    .dataframe tbody tr th {\n",
       "        vertical-align: top;\n",
       "    }\n",
       "\n",
       "    .dataframe thead th {\n",
       "        text-align: right;\n",
       "    }\n",
       "</style>\n",
       "<table border=\"1\" class=\"dataframe\">\n",
       "  <thead>\n",
       "    <tr style=\"text-align: right;\">\n",
       "      <th></th>\n",
       "      <th>index</th>\n",
       "      <th>Funding Amount (USD)</th>\n",
       "    </tr>\n",
       "  </thead>\n",
       "  <tbody>\n",
       "    <tr>\n",
       "      <th>count</th>\n",
       "      <td>3554.000000</td>\n",
       "      <td>3.554000e+03</td>\n",
       "    </tr>\n",
       "    <tr>\n",
       "      <th>mean</th>\n",
       "      <td>1785.603545</td>\n",
       "      <td>5.774267e+07</td>\n",
       "    </tr>\n",
       "    <tr>\n",
       "      <th>std</th>\n",
       "      <td>1031.960588</td>\n",
       "      <td>2.986841e+08</td>\n",
       "    </tr>\n",
       "    <tr>\n",
       "      <th>min</th>\n",
       "      <td>1.000000</td>\n",
       "      <td>4.000000e+04</td>\n",
       "    </tr>\n",
       "    <tr>\n",
       "      <th>25%</th>\n",
       "      <td>890.250000</td>\n",
       "      <td>5.000000e+06</td>\n",
       "    </tr>\n",
       "    <tr>\n",
       "      <th>50%</th>\n",
       "      <td>1787.500000</td>\n",
       "      <td>1.550830e+07</td>\n",
       "    </tr>\n",
       "    <tr>\n",
       "      <th>75%</th>\n",
       "      <td>2678.750000</td>\n",
       "      <td>5.000000e+07</td>\n",
       "    </tr>\n",
       "    <tr>\n",
       "      <th>max</th>\n",
       "      <td>3575.000000</td>\n",
       "      <td>1.660000e+10</td>\n",
       "    </tr>\n",
       "  </tbody>\n",
       "</table>\n",
       "</div>"
      ],
      "text/plain": [
       "             index  Funding Amount (USD)\n",
       "count  3554.000000          3.554000e+03\n",
       "mean   1785.603545          5.774267e+07\n",
       "std    1031.960588          2.986841e+08\n",
       "min       1.000000          4.000000e+04\n",
       "25%     890.250000          5.000000e+06\n",
       "50%    1787.500000          1.550830e+07\n",
       "75%    2678.750000          5.000000e+07\n",
       "max    3575.000000          1.660000e+10"
      ]
     },
     "execution_count": 285,
     "metadata": {},
     "output_type": "execute_result"
    }
   ],
   "source": [
    "techFundingDf.describe()"
   ]
  },
  {
   "cell_type": "markdown",
   "metadata": {},
   "source": [
    "### Removing the Irrelevent Features "
   ]
  },
  {
   "cell_type": "code",
   "execution_count": 286,
   "metadata": {},
   "outputs": [
    {
     "name": "stdout",
     "output_type": "stream",
     "text": [
      "<class 'pandas.core.frame.DataFrame'>\n",
      "Int64Index: 3554 entries, 0 to 3574\n",
      "Data columns (total 4 columns):\n",
      " #   Column                Non-Null Count  Dtype  \n",
      "---  ------                --------------  -----  \n",
      " 0   Company               3554 non-null   object \n",
      " 1   Region                3554 non-null   object \n",
      " 2   Vertical              3554 non-null   object \n",
      " 3   Funding Amount (USD)  3554 non-null   float64\n",
      "dtypes: float64(1), object(3)\n",
      "memory usage: 138.8+ KB\n"
     ]
    }
   ],
   "source": [
    "irreleventFeatures = ['index','Website','Funding Stage','Funding Date']\n",
    "techFundingDf = techFundingDf.drop(irreleventFeatures,axis=1,inplace=False)\n",
    "techFundingDf.info()\n"
   ]
  }
 ],
 "metadata": {
  "interpreter": {
   "hash": "b5d7577a806613e12585bbc6b5dc2cf09c54b75ab7222b9644c9facd5fe5ad43"
  },
  "kernelspec": {
   "display_name": "Python 3.8.0 64-bit",
   "language": "python",
   "name": "python3"
  },
  "language_info": {
   "codemirror_mode": {
    "name": "ipython",
    "version": 3
   },
   "file_extension": ".py",
   "mimetype": "text/x-python",
   "name": "python",
   "nbconvert_exporter": "python",
   "pygments_lexer": "ipython3",
   "version": "3.8.0"
  },
  "orig_nbformat": 4
 },
 "nbformat": 4,
 "nbformat_minor": 2
}
