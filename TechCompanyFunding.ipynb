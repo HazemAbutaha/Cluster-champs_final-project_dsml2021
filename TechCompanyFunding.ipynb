{
  "nbformat": 4,
  "nbformat_minor": 0,
  "metadata": {
    "interpreter": {
      "hash": "b5d7577a806613e12585bbc6b5dc2cf09c54b75ab7222b9644c9facd5fe5ad43"
    },
    "kernelspec": {
      "display_name": "Python 3.8.0 64-bit",
      "language": "python",
      "name": "python3"
    },
    "language_info": {
      "codemirror_mode": {
        "name": "ipython",
        "version": 3
      },
      "file_extension": ".py",
      "mimetype": "text/x-python",
      "name": "python",
      "nbconvert_exporter": "python",
      "pygments_lexer": "ipython3",
      "version": "3.8.0"
    },
    "orig_nbformat": 4,
    "colab": {
      "name": "TechCompanyFunding.ipynb",
      "provenance": [],
      "include_colab_link": true
    }
  },
  "cells": [
    {
      "cell_type": "markdown",
      "metadata": {
        "id": "view-in-github",
        "colab_type": "text"
      },
      "source": [
        "<a href=\"https://colab.research.google.com/github/habutaha/Cluster-champs_final-project_dsml2021/blob/HazemAbutaha/TechCompanyFunding.ipynb\" target=\"_parent\"><img src=\"https://colab.research.google.com/assets/colab-badge.svg\" alt=\"Open In Colab\"/></a>"
      ]
    },
    {
      "cell_type": "markdown",
      "metadata": {
        "id": "JUx2BjwZ1ncl"
      },
      "source": [
        "# Tech Company Funding \n"
      ]
    },
    {
      "cell_type": "markdown",
      "metadata": {
        "id": "imja3ILT1ncs"
      },
      "source": [
        "* <b>Company</b>: The name of the Company\n",
        "* <b>Website</b>: The web site of the company\n",
        "* <b>Region</b>: The country of the company \n",
        "* <b>Vertical</b>: The Industry\n",
        "* <b>Funding Amount (USD)</b>: The amount of the Funding\n",
        "* <b>Funding Stage</b>: The stage of the Funding \n",
        "* <b>Funding Date</b>: The date of the Funding"
      ]
    },
    {
      "cell_type": "markdown",
      "metadata": {
        "id": "1_Ap0zmC1nct"
      },
      "source": [
        "### Import Data and Libraries"
      ]
    },
    {
      "cell_type": "code",
      "metadata": {
        "id": "n3E-2SCm1ncu"
      },
      "source": [
        "import pandas as pd\n"
      ],
      "execution_count": 3,
      "outputs": []
    },
    {
      "cell_type": "code",
      "metadata": {
        "colab": {
          "base_uri": "https://localhost:8080/",
          "height": 204
        },
        "id": "rDVi69pT1ncv",
        "outputId": "ed66ed7f-08e9-4d6b-b9bd-23e56b9c4cc3"
      },
      "source": [
        "techFundingDf = pd.read_csv('./tech_fundings.csv')\n",
        "techFundingDf.head()"
      ],
      "execution_count": 4,
      "outputs": [
        {
          "output_type": "execute_result",
          "data": {
            "text/html": [
              "<div>\n",
              "<style scoped>\n",
              "    .dataframe tbody tr th:only-of-type {\n",
              "        vertical-align: middle;\n",
              "    }\n",
              "\n",
              "    .dataframe tbody tr th {\n",
              "        vertical-align: top;\n",
              "    }\n",
              "\n",
              "    .dataframe thead th {\n",
              "        text-align: right;\n",
              "    }\n",
              "</style>\n",
              "<table border=\"1\" class=\"dataframe\">\n",
              "  <thead>\n",
              "    <tr style=\"text-align: right;\">\n",
              "      <th></th>\n",
              "      <th>index</th>\n",
              "      <th>Company</th>\n",
              "      <th>Website</th>\n",
              "      <th>Region</th>\n",
              "      <th>Vertical</th>\n",
              "      <th>Funding Amount (USD)</th>\n",
              "      <th>Funding Stage</th>\n",
              "      <th>Funding Date</th>\n",
              "    </tr>\n",
              "  </thead>\n",
              "  <tbody>\n",
              "    <tr>\n",
              "      <th>0</th>\n",
              "      <td>1</td>\n",
              "      <td>Internxt</td>\n",
              "      <td>https://internxt.com/</td>\n",
              "      <td>Spain</td>\n",
              "      <td>Blockchain</td>\n",
              "      <td>278940</td>\n",
              "      <td>Seed</td>\n",
              "      <td>20-Jan</td>\n",
              "    </tr>\n",
              "    <tr>\n",
              "      <th>1</th>\n",
              "      <td>2</td>\n",
              "      <td>Dockflow</td>\n",
              "      <td>https://dockflow.com</td>\n",
              "      <td>Belgium</td>\n",
              "      <td>Logistics</td>\n",
              "      <td>292244</td>\n",
              "      <td>Seed</td>\n",
              "      <td>20-Jan</td>\n",
              "    </tr>\n",
              "    <tr>\n",
              "      <th>2</th>\n",
              "      <td>3</td>\n",
              "      <td>api.video</td>\n",
              "      <td>https://api.video</td>\n",
              "      <td>France</td>\n",
              "      <td>Developer APIs</td>\n",
              "      <td>300000</td>\n",
              "      <td>Seed</td>\n",
              "      <td>20-Jan</td>\n",
              "    </tr>\n",
              "    <tr>\n",
              "      <th>3</th>\n",
              "      <td>4</td>\n",
              "      <td>Buck.ai</td>\n",
              "      <td>https://buck.ai/</td>\n",
              "      <td>United States</td>\n",
              "      <td>Artificial Intelligence</td>\n",
              "      <td>300000</td>\n",
              "      <td>Seed</td>\n",
              "      <td>20-Jan</td>\n",
              "    </tr>\n",
              "    <tr>\n",
              "      <th>4</th>\n",
              "      <td>5</td>\n",
              "      <td>Prodsight</td>\n",
              "      <td>https://www.prodsight.ai</td>\n",
              "      <td>United Kingdom</td>\n",
              "      <td>Artificial Intelligence</td>\n",
              "      <td>529013</td>\n",
              "      <td>Seed</td>\n",
              "      <td>20-Jan</td>\n",
              "    </tr>\n",
              "  </tbody>\n",
              "</table>\n",
              "</div>"
            ],
            "text/plain": [
              "   index    Company  ... Funding Stage Funding Date\n",
              "0      1   Internxt  ...          Seed       20-Jan\n",
              "1      2   Dockflow  ...          Seed       20-Jan\n",
              "2      3  api.video  ...          Seed       20-Jan\n",
              "3      4    Buck.ai  ...          Seed       20-Jan\n",
              "4      5  Prodsight  ...          Seed       20-Jan\n",
              "\n",
              "[5 rows x 8 columns]"
            ]
          },
          "metadata": {},
          "execution_count": 4
        }
      ]
    },
    {
      "cell_type": "code",
      "metadata": {
        "colab": {
          "base_uri": "https://localhost:8080/"
        },
        "id": "U-bMCLt51ncw",
        "outputId": "ab2b606d-05f8-4868-fb76-db6b2762a079"
      },
      "source": [
        "techFundingDf.info()"
      ],
      "execution_count": 5,
      "outputs": [
        {
          "output_type": "stream",
          "name": "stdout",
          "text": [
            "<class 'pandas.core.frame.DataFrame'>\n",
            "RangeIndex: 3575 entries, 0 to 3574\n",
            "Data columns (total 8 columns):\n",
            " #   Column                Non-Null Count  Dtype \n",
            "---  ------                --------------  ----- \n",
            " 0   index                 3575 non-null   int64 \n",
            " 1   Company               3575 non-null   object\n",
            " 2   Website               3575 non-null   object\n",
            " 3   Region                3563 non-null   object\n",
            " 4   Vertical              3575 non-null   object\n",
            " 5   Funding Amount (USD)  3575 non-null   object\n",
            " 6   Funding Stage         3575 non-null   object\n",
            " 7   Funding Date          3575 non-null   object\n",
            "dtypes: int64(1), object(7)\n",
            "memory usage: 223.6+ KB\n"
          ]
        }
      ]
    },
    {
      "cell_type": "markdown",
      "metadata": {
        "id": "HeBfJMsE1ncx"
      },
      "source": [
        "### remove the missing 'Region' values"
      ]
    },
    {
      "cell_type": "code",
      "metadata": {
        "colab": {
          "base_uri": "https://localhost:8080/",
          "height": 204
        },
        "id": "DjMlwylT1ncx",
        "outputId": "85a1df24-2ce5-4c76-f80e-241f8f2b203d"
      },
      "source": [
        "# Get a copy of DataFrame without missing 'Region' values\n",
        "condition = techFundingDf['Region'].notnull()\n",
        "techFundingDf = techFundingDf[ condition ]\n",
        "techFundingDf.head()"
      ],
      "execution_count": 6,
      "outputs": [
        {
          "output_type": "execute_result",
          "data": {
            "text/html": [
              "<div>\n",
              "<style scoped>\n",
              "    .dataframe tbody tr th:only-of-type {\n",
              "        vertical-align: middle;\n",
              "    }\n",
              "\n",
              "    .dataframe tbody tr th {\n",
              "        vertical-align: top;\n",
              "    }\n",
              "\n",
              "    .dataframe thead th {\n",
              "        text-align: right;\n",
              "    }\n",
              "</style>\n",
              "<table border=\"1\" class=\"dataframe\">\n",
              "  <thead>\n",
              "    <tr style=\"text-align: right;\">\n",
              "      <th></th>\n",
              "      <th>index</th>\n",
              "      <th>Company</th>\n",
              "      <th>Website</th>\n",
              "      <th>Region</th>\n",
              "      <th>Vertical</th>\n",
              "      <th>Funding Amount (USD)</th>\n",
              "      <th>Funding Stage</th>\n",
              "      <th>Funding Date</th>\n",
              "    </tr>\n",
              "  </thead>\n",
              "  <tbody>\n",
              "    <tr>\n",
              "      <th>0</th>\n",
              "      <td>1</td>\n",
              "      <td>Internxt</td>\n",
              "      <td>https://internxt.com/</td>\n",
              "      <td>Spain</td>\n",
              "      <td>Blockchain</td>\n",
              "      <td>278940</td>\n",
              "      <td>Seed</td>\n",
              "      <td>20-Jan</td>\n",
              "    </tr>\n",
              "    <tr>\n",
              "      <th>1</th>\n",
              "      <td>2</td>\n",
              "      <td>Dockflow</td>\n",
              "      <td>https://dockflow.com</td>\n",
              "      <td>Belgium</td>\n",
              "      <td>Logistics</td>\n",
              "      <td>292244</td>\n",
              "      <td>Seed</td>\n",
              "      <td>20-Jan</td>\n",
              "    </tr>\n",
              "    <tr>\n",
              "      <th>2</th>\n",
              "      <td>3</td>\n",
              "      <td>api.video</td>\n",
              "      <td>https://api.video</td>\n",
              "      <td>France</td>\n",
              "      <td>Developer APIs</td>\n",
              "      <td>300000</td>\n",
              "      <td>Seed</td>\n",
              "      <td>20-Jan</td>\n",
              "    </tr>\n",
              "    <tr>\n",
              "      <th>3</th>\n",
              "      <td>4</td>\n",
              "      <td>Buck.ai</td>\n",
              "      <td>https://buck.ai/</td>\n",
              "      <td>United States</td>\n",
              "      <td>Artificial Intelligence</td>\n",
              "      <td>300000</td>\n",
              "      <td>Seed</td>\n",
              "      <td>20-Jan</td>\n",
              "    </tr>\n",
              "    <tr>\n",
              "      <th>4</th>\n",
              "      <td>5</td>\n",
              "      <td>Prodsight</td>\n",
              "      <td>https://www.prodsight.ai</td>\n",
              "      <td>United Kingdom</td>\n",
              "      <td>Artificial Intelligence</td>\n",
              "      <td>529013</td>\n",
              "      <td>Seed</td>\n",
              "      <td>20-Jan</td>\n",
              "    </tr>\n",
              "  </tbody>\n",
              "</table>\n",
              "</div>"
            ],
            "text/plain": [
              "   index    Company  ... Funding Stage Funding Date\n",
              "0      1   Internxt  ...          Seed       20-Jan\n",
              "1      2   Dockflow  ...          Seed       20-Jan\n",
              "2      3  api.video  ...          Seed       20-Jan\n",
              "3      4    Buck.ai  ...          Seed       20-Jan\n",
              "4      5  Prodsight  ...          Seed       20-Jan\n",
              "\n",
              "[5 rows x 8 columns]"
            ]
          },
          "metadata": {},
          "execution_count": 6
        }
      ]
    },
    {
      "cell_type": "code",
      "metadata": {
        "colab": {
          "base_uri": "https://localhost:8080/"
        },
        "id": "xT4GQ1ZI1ncy",
        "outputId": "c2130660-47a0-4bb0-e143-772798379cc0"
      },
      "source": [
        "techFundingDf.info()"
      ],
      "execution_count": 7,
      "outputs": [
        {
          "output_type": "stream",
          "name": "stdout",
          "text": [
            "<class 'pandas.core.frame.DataFrame'>\n",
            "Int64Index: 3563 entries, 0 to 3574\n",
            "Data columns (total 8 columns):\n",
            " #   Column                Non-Null Count  Dtype \n",
            "---  ------                --------------  ----- \n",
            " 0   index                 3563 non-null   int64 \n",
            " 1   Company               3563 non-null   object\n",
            " 2   Website               3563 non-null   object\n",
            " 3   Region                3563 non-null   object\n",
            " 4   Vertical              3563 non-null   object\n",
            " 5   Funding Amount (USD)  3563 non-null   object\n",
            " 6   Funding Stage         3563 non-null   object\n",
            " 7   Funding Date          3563 non-null   object\n",
            "dtypes: int64(1), object(7)\n",
            "memory usage: 250.5+ KB\n"
          ]
        }
      ]
    },
    {
      "cell_type": "markdown",
      "metadata": {
        "id": "6MXHkuIu1ncz"
      },
      "source": [
        "### Prepare the 'Funding Amount (USD)'"
      ]
    },
    {
      "cell_type": "code",
      "metadata": {
        "colab": {
          "base_uri": "https://localhost:8080/"
        },
        "id": "dC_xT3Mf1nc0",
        "outputId": "7343ae70-133b-4d8e-b7c6-933023566912"
      },
      "source": [
        "# find the numbers of 'Unknown' in the Funding Amount\n",
        "len(techFundingDf[ techFundingDf['Funding Amount (USD)'] == 'Unknown' ]['Funding Amount (USD)'])"
      ],
      "execution_count": 8,
      "outputs": [
        {
          "output_type": "execute_result",
          "data": {
            "text/plain": [
              "9"
            ]
          },
          "metadata": {},
          "execution_count": 8
        }
      ]
    },
    {
      "cell_type": "code",
      "metadata": {
        "colab": {
          "base_uri": "https://localhost:8080/"
        },
        "id": "vQ7sYOHN1nc0",
        "outputId": "003185d2-5ce9-4e5e-ec6b-ac7b972b65c7"
      },
      "source": [
        "# Removing the 'Unknown' rows from the Funding amount\n",
        "techFundingDf = techFundingDf.drop([1262,1263,1264,1284,1285,1293,1301,1310,1327], axis=0)\n",
        "techFundingDf.info()"
      ],
      "execution_count": 9,
      "outputs": [
        {
          "output_type": "stream",
          "name": "stdout",
          "text": [
            "<class 'pandas.core.frame.DataFrame'>\n",
            "Int64Index: 3554 entries, 0 to 3574\n",
            "Data columns (total 8 columns):\n",
            " #   Column                Non-Null Count  Dtype \n",
            "---  ------                --------------  ----- \n",
            " 0   index                 3554 non-null   int64 \n",
            " 1   Company               3554 non-null   object\n",
            " 2   Website               3554 non-null   object\n",
            " 3   Region                3554 non-null   object\n",
            " 4   Vertical              3554 non-null   object\n",
            " 5   Funding Amount (USD)  3554 non-null   object\n",
            " 6   Funding Stage         3554 non-null   object\n",
            " 7   Funding Date          3554 non-null   object\n",
            "dtypes: int64(1), object(7)\n",
            "memory usage: 249.9+ KB\n"
          ]
        }
      ]
    },
    {
      "cell_type": "code",
      "metadata": {
        "colab": {
          "base_uri": "https://localhost:8080/"
        },
        "id": "kiQGXhEh1nc1",
        "outputId": "0c6d21eb-af81-4ab5-d5af-01df2ca1b1e1"
      },
      "source": [
        "len(techFundingDf[ techFundingDf['Funding Amount (USD)'] == 'Unknown' ]['Funding Amount (USD)'])"
      ],
      "execution_count": 10,
      "outputs": [
        {
          "output_type": "execute_result",
          "data": {
            "text/plain": [
              "0"
            ]
          },
          "metadata": {},
          "execution_count": 10
        }
      ]
    },
    {
      "cell_type": "code",
      "metadata": {
        "colab": {
          "base_uri": "https://localhost:8080/"
        },
        "id": "dCUT_UfF1nc2",
        "outputId": "53beb1b8-04a1-466e-c051-07b85fa8805b"
      },
      "source": [
        "# Change the 'Funding Amount (USD)' data type from object to float64\n",
        "techFundingDf['Funding Amount (USD)'] = techFundingDf['Funding Amount (USD)'].astype(str).astype(float)\n",
        "print(techFundingDf.dtypes)"
      ],
      "execution_count": 11,
      "outputs": [
        {
          "output_type": "stream",
          "name": "stdout",
          "text": [
            "index                     int64\n",
            "Company                  object\n",
            "Website                  object\n",
            "Region                   object\n",
            "Vertical                 object\n",
            "Funding Amount (USD)    float64\n",
            "Funding Stage            object\n",
            "Funding Date             object\n",
            "dtype: object\n"
          ]
        }
      ]
    },
    {
      "cell_type": "code",
      "metadata": {
        "colab": {
          "base_uri": "https://localhost:8080/",
          "height": 296
        },
        "id": "n5kpmRQa1nc2",
        "outputId": "38601d18-88f9-4a0f-a9ec-5f05e5edbddc"
      },
      "source": [
        "techFundingDf.describe()"
      ],
      "execution_count": 12,
      "outputs": [
        {
          "output_type": "execute_result",
          "data": {
            "text/html": [
              "<div>\n",
              "<style scoped>\n",
              "    .dataframe tbody tr th:only-of-type {\n",
              "        vertical-align: middle;\n",
              "    }\n",
              "\n",
              "    .dataframe tbody tr th {\n",
              "        vertical-align: top;\n",
              "    }\n",
              "\n",
              "    .dataframe thead th {\n",
              "        text-align: right;\n",
              "    }\n",
              "</style>\n",
              "<table border=\"1\" class=\"dataframe\">\n",
              "  <thead>\n",
              "    <tr style=\"text-align: right;\">\n",
              "      <th></th>\n",
              "      <th>index</th>\n",
              "      <th>Funding Amount (USD)</th>\n",
              "    </tr>\n",
              "  </thead>\n",
              "  <tbody>\n",
              "    <tr>\n",
              "      <th>count</th>\n",
              "      <td>3554.000000</td>\n",
              "      <td>3.554000e+03</td>\n",
              "    </tr>\n",
              "    <tr>\n",
              "      <th>mean</th>\n",
              "      <td>1785.603545</td>\n",
              "      <td>5.774267e+07</td>\n",
              "    </tr>\n",
              "    <tr>\n",
              "      <th>std</th>\n",
              "      <td>1031.960588</td>\n",
              "      <td>2.986841e+08</td>\n",
              "    </tr>\n",
              "    <tr>\n",
              "      <th>min</th>\n",
              "      <td>1.000000</td>\n",
              "      <td>4.000000e+04</td>\n",
              "    </tr>\n",
              "    <tr>\n",
              "      <th>25%</th>\n",
              "      <td>890.250000</td>\n",
              "      <td>5.000000e+06</td>\n",
              "    </tr>\n",
              "    <tr>\n",
              "      <th>50%</th>\n",
              "      <td>1787.500000</td>\n",
              "      <td>1.550830e+07</td>\n",
              "    </tr>\n",
              "    <tr>\n",
              "      <th>75%</th>\n",
              "      <td>2678.750000</td>\n",
              "      <td>5.000000e+07</td>\n",
              "    </tr>\n",
              "    <tr>\n",
              "      <th>max</th>\n",
              "      <td>3575.000000</td>\n",
              "      <td>1.660000e+10</td>\n",
              "    </tr>\n",
              "  </tbody>\n",
              "</table>\n",
              "</div>"
            ],
            "text/plain": [
              "             index  Funding Amount (USD)\n",
              "count  3554.000000          3.554000e+03\n",
              "mean   1785.603545          5.774267e+07\n",
              "std    1031.960588          2.986841e+08\n",
              "min       1.000000          4.000000e+04\n",
              "25%     890.250000          5.000000e+06\n",
              "50%    1787.500000          1.550830e+07\n",
              "75%    2678.750000          5.000000e+07\n",
              "max    3575.000000          1.660000e+10"
            ]
          },
          "metadata": {},
          "execution_count": 12
        }
      ]
    },
    {
      "cell_type": "code",
      "metadata": {
        "id": "oxIwIaTE1nc3"
      },
      "source": [
        ""
      ],
      "execution_count": 12,
      "outputs": []
    }
  ]
}